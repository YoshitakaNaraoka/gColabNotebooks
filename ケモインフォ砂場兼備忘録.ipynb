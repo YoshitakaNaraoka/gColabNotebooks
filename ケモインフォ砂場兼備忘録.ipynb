{
  "cells": [
    {
      "cell_type": "markdown",
      "metadata": {
        "colab_type": "text",
        "id": "view-in-github"
      },
      "source": [
        "<a href=\"https://colab.research.google.com/github/YoshitakaNaraoka/gColabNotebooks/blob/main/%E3%82%B1%E3%83%A2%E3%82%A4%E3%83%B3%E3%83%95%E3%82%A9%E7%A0%82%E5%A0%B4%E5%85%BC%E5%82%99%E5%BF%98%E9%8C%B2.ipynb\" target=\"_parent\"><img src=\"https://colab.research.google.com/assets/colab-badge.svg\" alt=\"Open In Colab\"/></a>"
      ]
    },
    {
      "cell_type": "code",
      "execution_count": null,
      "metadata": {
        "id": "TESV_AlUW9lr"
      },
      "outputs": [],
      "source": [
        "!wget -c https://repo.continuum.io/miniconda/Miniconda3-latest-Linux-x86_64.sh\n",
        "!chmod +x Miniconda3-latest-Linux-x86_64.sh\n",
        "!bash ./Miniconda3-latest-Linux-x86_64.sh -b -f -p /usr/local\n",
        "%conda install -q -y -c rdkit rdkit python=latest\n",
        "import sys\n",
        "sys.path.append('/usr/local/lib/python/site-packages/')"
      ]
    },
    {
      "cell_type": "code",
      "execution_count": null,
      "metadata": {
        "colab": {
          "base_uri": "https://localhost:8080/"
        },
        "id": "goUD_pUkunbL",
        "outputId": "51670482-0bea-494d-b6e9-4af8058b39c9"
      },
      "outputs": [],
      "source": [
        "#pip install psi4 python=3.7 -c psi4 -c conda-forge\n",
        "\n",
        "# Psi4のインストール\n",
        "%conda install -y psi4 python=latest -c psi4\n",
        "# モジュール検索パスの追加\n",
        "import sys\n",
        "sys.path.append(\"/usr/local/lib/python/site-packages/\")"
      ]
    },
    {
      "cell_type": "code",
      "execution_count": null,
      "metadata": {
        "colab": {
          "base_uri": "https://localhost:8080/"
        },
        "id": "8gNak1kviqYY",
        "outputId": "eb33ee0e-026d-42ef-acf9-fd0dbc7c7c40"
      },
      "outputs": [],
      "source": [
        "# セル実行時間の測定\n",
        "%%time\n",
        "\n",
        "# rdkitをインストール\n",
        "!curl -Lo rdkit_installer.py https://git.io/fxiPZ\n",
        "import rdkit_installer\n",
        "\n",
        "# rdkit内のChemモジュールを読み込む(ここをいったん動かさないと以下のChem.~が動いてくれない)\n",
        "from rdkit import Chem\n",
        "\n",
        "from rdkit.Chem.Draw import IPythonConsole\n",
        "from IPython.display import display\n",
        "\n",
        "# gzipモジュールを読み込む\n",
        "import gzip\n",
        "\n",
        "# 分子の標準化を行うためのモジュールを読み込む\n",
        "from rdkit.Chem import MolStandardize\n"
      ]
    },
    {
      "cell_type": "code",
      "execution_count": null,
      "metadata": {
        "colab": {
          "base_uri": "https://localhost:8080/",
          "height": 423
        },
        "id": "U-zkIIkTZ42m",
        "outputId": "21fe05b8-8f7f-4a72-b4ac-5c2afbd2ebe9"
      },
      "outputs": [],
      "source": [
        "# 3D表示のためのpy3Dmolをインストール\n",
        "%pip install py3Dmol\n",
        "\n",
        "# mordredのインストール\n",
        "%pip install mordred"
      ]
    },
    {
      "cell_type": "code",
      "execution_count": null,
      "metadata": {
        "colab": {
          "base_uri": "https://localhost:8080/",
          "height": 355
        },
        "id": "cbTh7k2bqyh2",
        "outputId": "6c95c553-a35b-4c78-fab1-bf9702de7aba"
      },
      "outputs": [],
      "source": [
        "# MolFromSmilesで生成した分子を構造式表示するにはdisplayコマンド\n",
        "benzene = Chem.MolFromSmiles(\"c1ccccc1\")\n",
        "display(benzene)\n",
        "\n",
        "# 読み込んだファイル内の分子は配列形式で表示可能\n",
        "EPc_mols[2]"
      ]
    },
    {
      "cell_type": "code",
      "execution_count": null,
      "metadata": {
        "colab": {
          "base_uri": "https://localhost:8080/",
          "height": 205
        },
        "id": "jKASfAttrYwm",
        "outputId": "949e499c-5a49-46d0-a139-7486469feb60"
      },
      "outputs": [],
      "source": [
        "EPc_test = EPc_mols[2]\n",
        "names=list(EPc_test.GetPropNames())\n",
        "print(names)"
      ]
    },
    {
      "cell_type": "code",
      "execution_count": null,
      "metadata": {
        "colab": {
          "base_uri": "https://localhost:8080/",
          "height": 240
        },
        "id": "Mud1FmD1siVJ",
        "outputId": "80e698a6-1888-4f89-fa85-ddb3f05d8a8f"
      },
      "outputs": [],
      "source": [
        "#標準化\n",
        "normalizer =MolStandardize.normalize.Normalizer()\n",
        "test_mol_norm = normalizer.normalize(EPc_test)\n",
        "\n",
        "#一番大きいサイズのフラグメントのみ残す（ここで脱塩されるみたい）\n",
        "lfc = MolStandardize.fragment.LargestFragmentChooser()\n",
        "test_mol_desalt = lfc.choose(test_mol_norm)\n",
        "\n",
        "#電荷の中和\n",
        "uc = MolStandardize.charge.Uncharger()\n",
        "test_mol_neu = uc.uncharge(test_mol_desalt)"
      ]
    },
    {
      "cell_type": "code",
      "execution_count": null,
      "metadata": {
        "id": "ya0Xd6qGtdXh"
      },
      "outputs": [],
      "source": [
        "test_mol_desalt"
      ]
    },
    {
      "cell_type": "code",
      "execution_count": null,
      "metadata": {
        "id": "j5IXf6ZZuTwr"
      },
      "outputs": [],
      "source": [
        "#セルの処理の時間測定\n",
        "%%time\n",
        "\n",
        "#前処理を実行して新しいMOlオブジェクトのリストを作る\n",
        "#空のリストを作成\n",
        "processed_EPc_mols = []\n",
        "\n",
        "#ループを回せ!!!\n",
        "for i in range(len(EPc_mols)):\n",
        "  mol = EPc_mols[i]\n",
        "\n",
        "  #構造の標準化\n",
        "  normalizer =MolStandardize.normalize.Normalizer()\n",
        "  mol_norm = normalizer.normalize(mol)\n",
        "\n",
        "  #一番大きいサイズのフラグメントのみ残す\n",
        "  lfc = MolStandardize.fragment.LargestFragmentChooser()\n",
        "  mol_desalt = lfc.choose(mol_norm)\n",
        "\n",
        "  #電荷の中和\n",
        "  uc = MolStandardize.charge.Uncharger()\n",
        "  mol_neu = uc.uncharge(mol_desalt)\n",
        "\n",
        "  #新しいリストに追加\n",
        "  processed_EPc_mols.append(mol_neu)"
      ]
    },
    {
      "cell_type": "code",
      "execution_count": null,
      "metadata": {
        "id": "LkDLYEv6vjl9"
      },
      "outputs": [],
      "source": [
        "#構造とidnumberのみを残したsdfファイルを作成\n",
        "#SDWriterを使用する\n",
        "writer = Chem.SDWriter('Enamine_Premium_collection_processed.sdf')\n",
        "\n",
        "#プロパティの設定\n",
        "#右だとうまくいきません。プロパティはリストで渡す必要があります。→ writer.SetProps('idnumber')\n",
        "writer.SetProps(['idnumber'])\n",
        "\n",
        "#ループを回せ！！\n",
        "for mol in processed_EPc_mols:\n",
        "  writer.write(mol)\n",
        "\n",
        "#そっ閉じ\n",
        "writer.close()\n"
      ]
    },
    {
      "cell_type": "code",
      "execution_count": null,
      "metadata": {
        "id": "DjGM-MscwBCJ"
      },
      "outputs": [],
      "source": [
        "#大きいので圧縮\n",
        "#colaboratoryでは\"!\"を先につけるらしい\n",
        "!gzip -c Enamine_Premium_collection_processed.sdf > Enamine_Premium_collection_processed.sdf.gz\n",
        "\n",
        "#Googleドライブへ出力\n",
        "upload_file = drive.CreateFile()\n",
        "upload_file.SetContentFile('Enamine_Premium_collection_processed.sdf.gz')\n",
        "upload_file.Upload()"
      ]
    },
    {
      "cell_type": "code",
      "execution_count": null,
      "metadata": {
        "id": "-DdVf4II28VV"
      },
      "outputs": [],
      "source": [
        "crown = Chem.MolFromSmiles('C1COCCOCCOCCOCCOCCO1')\n",
        "display(crown)"
      ]
    },
    {
      "cell_type": "code",
      "execution_count": null,
      "metadata": {
        "id": "bi0OLu0e29p7"
      },
      "outputs": [],
      "source": [
        "# CoordGen ライブラリでは大員環化合物を見やすく描画できる\n",
        "from rdkit.Chem import rdCoordGen\n",
        "Chem.rdCoordGen.AddCoords(crown)\n",
        "display(crown)"
      ]
    },
    {
      "cell_type": "code",
      "execution_count": null,
      "metadata": {
        "id": "dZ-f6E5sUmcT"
      },
      "outputs": [],
      "source": [
        "alanine = Chem.MolFromSmiles('CC(C(=O)O)N')\n",
        "phenylalanine = Chem.MolFromSmiles('c1ccccc1CC(C(=O)O)N')\n",
        "display(alanine,phenylalanine)"
      ]
    },
    {
      "cell_type": "code",
      "execution_count": null,
      "metadata": {
        "id": "m3d46p_mN2NT"
      },
      "outputs": [],
      "source": [
        "# TPSA(極性表面積)-細胞膜透過性の指標\n",
        "from rdkit import rdBase, Chem\n",
        "from rdkit.Chem import Draw, Descriptors\n",
        "### 分子の用意\n",
        "alanine = Chem.MolFromSmiles('CC(C(=O)O)N')\n",
        "phenylalanine = Chem.MolFromSmiles('c1ccccc1CC(C(=O)O)N')\n",
        "mol_list = [alanine,phenylalanine]\n",
        "writer=Chem.SDWriter('molecules.sdf')\n",
        "for mol in mol_list:\n",
        "\twriter.write(mol)\n",
        "writer.close()\n",
        "suppl = Chem.SDMolSupplier('molecules.sdf')\n",
        "mols = [x for x in suppl if x is not None]\n",
        "len(mols) # 2\n",
        "### TPSAの計算\n",
        "declist = Descriptors.descList\n",
        "calc = {}\n",
        "for (i,j) in declist:\n",
        "    calc[i] = j\n",
        "tpsa = [calc['TPSA'](i) for i in mols]\n",
        "### 描画\n",
        "display(mol_list[0])\n",
        "display(mol_list[1])\n",
        "print(tpsa)\n"
      ]
    }
  ],
  "metadata": {
    "accelerator": "GPU",
    "colab": {
      "include_colab_link": true,
      "provenance": []
    },
    "gpuClass": "standard",
    "kernelspec": {
      "display_name": "Python 3",
      "name": "python3"
    },
    "language_info": {
      "name": "python",
      "version": "3.12.1"
    }
  },
  "nbformat": 4,
  "nbformat_minor": 0
}
