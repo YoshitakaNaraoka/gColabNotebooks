{
  "cells": [
    {
      "cell_type": "markdown",
      "metadata": {
        "colab_type": "text",
        "id": "view-in-github"
      },
      "source": [
        "<a href=\"https://colab.research.google.com/github/YoshitakaNaraoka/gColabNotebooks/blob/main/%E3%82%B1%E3%83%A2%E3%82%A4%E3%83%B3%E3%83%95%E3%82%A9%E7%A0%82%E5%A0%B4%E5%85%BC%E5%82%99%E5%BF%98%E9%8C%B2.ipynb\" target=\"_parent\"><img src=\"https://colab.research.google.com/assets/colab-badge.svg\" alt=\"Open In Colab\"/></a>"
      ]
    },
    {
      "cell_type": "code",
      "execution_count": 58,
      "metadata": {
        "colab": {
          "base_uri": "https://localhost:8080/"
        },
        "id": "8gNak1kviqYY",
        "outputId": "eb33ee0e-026d-42ef-acf9-fd0dbc7c7c40"
      },
      "outputs": [
        {
          "name": "stdout",
          "output_type": "stream",
          "text": [
            "Requirement already satisfied: rdkit in c:\\users\\user\\appdata\\local\\programs\\python\\python312\\lib\\site-packages (from -r requirements.txt (line 1)) (2023.9.2)\n",
            "Requirement already satisfied: py3Dmol in c:\\users\\user\\appdata\\local\\programs\\python\\python312\\lib\\site-packages (from -r requirements.txt (line 2)) (2.0.4)\n",
            "Requirement already satisfied: mordred in c:\\users\\user\\appdata\\local\\programs\\python\\python312\\lib\\site-packages (from -r requirements.txt (line 3)) (1.2.0)\n",
            "Requirement already satisfied: dcekit in c:\\users\\user\\appdata\\local\\programs\\python\\python312\\lib\\site-packages (from -r requirements.txt (line 4)) (2.13.4)\n",
            "Collecting pubchempy (from -r requirements.txt (line 5))\n",
            "  Downloading PubChemPy-1.0.4.tar.gz (29 kB)\n",
            "  Installing build dependencies: started\n",
            "  Installing build dependencies: finished with status 'done'\n",
            "  Getting requirements to build wheel: started\n",
            "  Getting requirements to build wheel: finished with status 'done'\n",
            "  Preparing metadata (pyproject.toml): started\n",
            "  Preparing metadata (pyproject.toml): finished with status 'done'\n",
            "Requirement already satisfied: numpy in c:\\users\\user\\appdata\\local\\programs\\python\\python312\\lib\\site-packages (from rdkit->-r requirements.txt (line 1)) (1.26.2)\n",
            "Requirement already satisfied: Pillow in c:\\users\\user\\appdata\\local\\programs\\python\\python312\\lib\\site-packages (from rdkit->-r requirements.txt (line 1)) (10.1.0)\n",
            "Requirement already satisfied: six==1.* in c:\\users\\user\\appdata\\roaming\\python\\python312\\site-packages (from mordred->-r requirements.txt (line 3)) (1.16.0)\n",
            "Requirement already satisfied: networkx==2.* in c:\\users\\user\\appdata\\local\\programs\\python\\python312\\lib\\site-packages (from mordred->-r requirements.txt (line 3)) (2.8.8)\n",
            "Requirement already satisfied: pandas in c:\\users\\user\\appdata\\local\\programs\\python\\python312\\lib\\site-packages (from dcekit->-r requirements.txt (line 4)) (2.1.4)\n",
            "Requirement already satisfied: scikit-learn in c:\\users\\user\\appdata\\local\\programs\\python\\python312\\lib\\site-packages (from dcekit->-r requirements.txt (line 4)) (1.3.2)\n",
            "Requirement already satisfied: scipy in c:\\users\\user\\appdata\\local\\programs\\python\\python312\\lib\\site-packages (from dcekit->-r requirements.txt (line 4)) (1.11.4)\n",
            "Requirement already satisfied: python-dateutil>=2.8.2 in c:\\users\\user\\appdata\\roaming\\python\\python312\\site-packages (from pandas->dcekit->-r requirements.txt (line 4)) (2.8.2)\n",
            "Requirement already satisfied: pytz>=2020.1 in c:\\users\\user\\appdata\\local\\programs\\python\\python312\\lib\\site-packages (from pandas->dcekit->-r requirements.txt (line 4)) (2023.3.post1)\n",
            "Requirement already satisfied: tzdata>=2022.1 in c:\\users\\user\\appdata\\local\\programs\\python\\python312\\lib\\site-packages (from pandas->dcekit->-r requirements.txt (line 4)) (2023.3)\n",
            "Requirement already satisfied: joblib>=1.1.1 in c:\\users\\user\\appdata\\local\\programs\\python\\python312\\lib\\site-packages (from scikit-learn->dcekit->-r requirements.txt (line 4)) (1.3.2)\n",
            "Requirement already satisfied: threadpoolctl>=2.0.0 in c:\\users\\user\\appdata\\local\\programs\\python\\python312\\lib\\site-packages (from scikit-learn->dcekit->-r requirements.txt (line 4)) (3.2.0)\n",
            "Building wheels for collected packages: pubchempy\n",
            "  Building wheel for pubchempy (pyproject.toml): started\n",
            "  Building wheel for pubchempy (pyproject.toml): finished with status 'done'\n",
            "  Created wheel for pubchempy: filename=PubChemPy-1.0.4-py3-none-any.whl size=13841 sha256=6efe842875a47147bf2db3ff52fa7394163810f95367abc8f3f84c904ff6106c\n",
            "  Stored in directory: c:\\users\\user\\appdata\\local\\pip\\cache\\wheels\\78\\0f\\d0\\080f82ce0d7fdc771401b6acac304bd2ee77d67dee34737bd6\n",
            "Successfully built pubchempy\n",
            "Installing collected packages: pubchempy\n",
            "Successfully installed pubchempy-1.0.4\n",
            "Note: you may need to restart the kernel to use updated packages.\n"
          ]
        }
      ],
      "source": [
        "# install module\n",
        "%pip install -r requirements.txt"
      ]
    },
    {
      "cell_type": "code",
      "execution_count": 59,
      "metadata": {
        "id": "m3d46p_mN2NT"
      },
      "outputs": [
        {
          "ename": "AttributeError",
          "evalue": "'list' object has no attribute 'GetAtomWithIdx'",
          "output_type": "error",
          "traceback": [
            "\u001b[1;31m---------------------------------------------------------------------------\u001b[0m",
            "\u001b[1;31mAttributeError\u001b[0m                            Traceback (most recent call last)",
            "Cell \u001b[1;32mIn[59], line 8\u001b[0m\n\u001b[0;32m      4\u001b[0m \u001b[38;5;28;01mfrom\u001b[39;00m \u001b[38;5;21;01mrdkit\u001b[39;00m\u001b[38;5;21;01m.\u001b[39;00m\u001b[38;5;21;01mChem\u001b[39;00m \u001b[38;5;28;01mimport\u001b[39;00m Draw\n\u001b[0;32m      6\u001b[0m \u001b[38;5;28;01mfrom\u001b[39;00m \u001b[38;5;21;01mMol_List\u001b[39;00m \u001b[38;5;28;01mimport\u001b[39;00m mol_list\n\u001b[1;32m----> 8\u001b[0m \u001b[43mDraw\u001b[49m\u001b[38;5;241;43m.\u001b[39;49m\u001b[43mMolToImage\u001b[49m\u001b[43m(\u001b[49m\u001b[43mmol_list\u001b[49m\u001b[43m)\u001b[49m\n\u001b[0;32m     10\u001b[0m \u001b[38;5;66;03m# CoordGen ライブラリでは大員環化合物を見やすく描画できる\u001b[39;00m\n\u001b[0;32m     11\u001b[0m Chem\u001b[38;5;241m.\u001b[39mrdCoordGen\u001b[38;5;241m.\u001b[39mAddCoords(mol_list[\u001b[38;5;241m3\u001b[39m])\n",
            "File \u001b[1;32mc:\\Users\\user\\AppData\\Local\\Programs\\Python\\Python312\\Lib\\site-packages\\rdkit\\Chem\\Draw\\__init__.py:241\u001b[0m, in \u001b[0;36mMolToImage\u001b[1;34m(mol, size, kekulize, wedgeBonds, fitImage, options, canvas, **kwargs)\u001b[0m\n\u001b[0;32m    237\u001b[0m   warnings\u001b[38;5;241m.\u001b[39mwarn(\n\u001b[0;32m    238\u001b[0m     \u001b[38;5;124m\"\u001b[39m\u001b[38;5;124mlegacy DrawingOptions not translated for new drawing code, please update manually\u001b[39m\u001b[38;5;124m\"\u001b[39m,\n\u001b[0;32m    239\u001b[0m     \u001b[38;5;167;01mDeprecationWarning\u001b[39;00m)\n\u001b[0;32m    240\u001b[0m   options \u001b[38;5;241m=\u001b[39m \u001b[38;5;28;01mNone\u001b[39;00m\n\u001b[1;32m--> 241\u001b[0m \u001b[38;5;28;01mreturn\u001b[39;00m \u001b[43m_moltoimg\u001b[49m\u001b[43m(\u001b[49m\u001b[43mmol\u001b[49m\u001b[43m,\u001b[49m\u001b[43m \u001b[49m\u001b[43msize\u001b[49m\u001b[43m,\u001b[49m\u001b[43m \u001b[49m\u001b[43mkwargs\u001b[49m\u001b[38;5;241;43m.\u001b[39;49m\u001b[43mget\u001b[49m\u001b[43m(\u001b[49m\u001b[38;5;124;43m'\u001b[39;49m\u001b[38;5;124;43mhighlightAtoms\u001b[39;49m\u001b[38;5;124;43m'\u001b[39;49m\u001b[43m,\u001b[49m\u001b[43m \u001b[49m\u001b[43m[\u001b[49m\u001b[43m]\u001b[49m\u001b[43m)\u001b[49m\u001b[43m,\u001b[49m\u001b[43m \u001b[49m\u001b[43mkwargs\u001b[49m\u001b[38;5;241;43m.\u001b[39;49m\u001b[43mget\u001b[49m\u001b[43m(\u001b[49m\u001b[38;5;124;43m'\u001b[39;49m\u001b[38;5;124;43mlegend\u001b[39;49m\u001b[38;5;124;43m'\u001b[39;49m\u001b[43m,\u001b[49m\u001b[43m \u001b[49m\u001b[38;5;124;43m'\u001b[39;49m\u001b[38;5;124;43m'\u001b[39;49m\u001b[43m)\u001b[49m\u001b[43m,\u001b[49m\n\u001b[0;32m    242\u001b[0m \u001b[43m                 \u001b[49m\u001b[43mhighlightBonds\u001b[49m\u001b[38;5;241;43m=\u001b[39;49m\u001b[43mkwargs\u001b[49m\u001b[38;5;241;43m.\u001b[39;49m\u001b[43mget\u001b[49m\u001b[43m(\u001b[49m\u001b[38;5;124;43m'\u001b[39;49m\u001b[38;5;124;43mhighlightBonds\u001b[39;49m\u001b[38;5;124;43m'\u001b[39;49m\u001b[43m,\u001b[49m\n\u001b[0;32m    243\u001b[0m \u001b[43m                                           \u001b[49m\u001b[43m[\u001b[49m\u001b[43m]\u001b[49m\u001b[43m)\u001b[49m\u001b[43m,\u001b[49m\u001b[43m \u001b[49m\u001b[43mdrawOptions\u001b[49m\u001b[38;5;241;43m=\u001b[39;49m\u001b[43moptions\u001b[49m\u001b[43m,\u001b[49m\u001b[43m \u001b[49m\u001b[43mkekulize\u001b[49m\u001b[38;5;241;43m=\u001b[39;49m\u001b[43mkekulize\u001b[49m\u001b[43m,\u001b[49m\n\u001b[0;32m    244\u001b[0m \u001b[43m                 \u001b[49m\u001b[43mwedgeBonds\u001b[49m\u001b[38;5;241;43m=\u001b[39;49m\u001b[43mwedgeBonds\u001b[49m\u001b[43m,\u001b[49m\u001b[43m \u001b[49m\u001b[43mhighlightColor\u001b[49m\u001b[38;5;241;43m=\u001b[39;49m\u001b[43mkwargs\u001b[49m\u001b[38;5;241;43m.\u001b[39;49m\u001b[43mget\u001b[49m\u001b[43m(\u001b[49m\u001b[38;5;124;43m'\u001b[39;49m\u001b[38;5;124;43mhighlightColor\u001b[39;49m\u001b[38;5;124;43m'\u001b[39;49m\u001b[43m,\u001b[49m\u001b[43m \u001b[49m\u001b[38;5;28;43;01mNone\u001b[39;49;00m\u001b[43m)\u001b[49m\u001b[43m)\u001b[49m\n",
            "File \u001b[1;32mc:\\Users\\user\\AppData\\Local\\Programs\\Python\\Python312\\Lib\\site-packages\\rdkit\\Chem\\Draw\\__init__.py:458\u001b[0m, in \u001b[0;36m_moltoimg\u001b[1;34m(mol, sz, highlights, legend, returnPNG, drawOptions, **kwargs)\u001b[0m\n\u001b[0;32m    456\u001b[0m \u001b[38;5;28;01mtry\u001b[39;00m:\n\u001b[0;32m    457\u001b[0m   \u001b[38;5;28;01mwith\u001b[39;00m rdBase\u001b[38;5;241m.\u001b[39mBlockLogs():\n\u001b[1;32m--> 458\u001b[0m     \u001b[43mmol\u001b[49m\u001b[38;5;241;43m.\u001b[39;49m\u001b[43mGetAtomWithIdx\u001b[49m(\u001b[38;5;241m0\u001b[39m)\u001b[38;5;241m.\u001b[39mGetExplicitValence()\n\u001b[0;32m    459\u001b[0m \u001b[38;5;28;01mexcept\u001b[39;00m \u001b[38;5;167;01mRuntimeError\u001b[39;00m:\n\u001b[0;32m    460\u001b[0m   mol\u001b[38;5;241m.\u001b[39mUpdatePropertyCache(\u001b[38;5;28;01mFalse\u001b[39;00m)\n",
            "\u001b[1;31mAttributeError\u001b[0m: 'list' object has no attribute 'GetAtomWithIdx'"
          ]
        }
      ],
      "source": [
        "# rdkit内のChemモジュールを読み込む(ここをいったん動かさないと以下のChem.~が動いてくれない)\n",
        "from rdkit import Chem\n",
        "from rdkit.Chem import Descriptors\n",
        "from rdkit.Chem import Draw\n",
        "\n",
        "from Mol_List import mol_list\n",
        "\n",
        "Draw.MolToImage(mol_list)\n",
        "\n",
        "# CoordGen ライブラリでは大員環化合物を見やすく描画できる\n",
        "Chem.rdCoordGen.AddCoords(mol_list[3])\n",
        "\n",
        "# TPSA(極性表面積)-細胞膜透過性の指標\n",
        "\n",
        "### 分子の用意\n",
        "writer=Chem.SDWriter('molecules.sdf')\n",
        "writer.write(mol_list)\n",
        "writer.close\n",
        "\n",
        "suppl = Chem.SDMolSupplier('molecules.sdf')\n",
        "mols = [x for x in suppl if x is not None]\n",
        "len(mols) # 2\n",
        "### TPSAの計算\n",
        "declist = Descriptors.descList\n",
        "calc = {}\n",
        "for (i,j) in declist:\n",
        "    calc[i] = j\n",
        "tpsa = [calc['TPSA'](i) for i in mols]\n",
        "### 描画\n",
        "\n",
        "\n",
        "print(tpsa)\n"
      ]
    },
    {
      "cell_type": "code",
      "execution_count": null,
      "metadata": {},
      "outputs": [],
      "source": [
        "# 水溶性の評価\n"
      ]
    }
  ],
  "metadata": {
    "accelerator": "GPU",
    "colab": {
      "include_colab_link": true,
      "provenance": []
    },
    "gpuClass": "standard",
    "kernelspec": {
      "display_name": "Python 3",
      "name": "python3"
    },
    "language_info": {
      "codemirror_mode": {
        "name": "ipython",
        "version": 3
      },
      "file_extension": ".py",
      "mimetype": "text/x-python",
      "name": "python",
      "nbconvert_exporter": "python",
      "pygments_lexer": "ipython3",
      "version": "3.12.1"
    }
  },
  "nbformat": 4,
  "nbformat_minor": 0
}
