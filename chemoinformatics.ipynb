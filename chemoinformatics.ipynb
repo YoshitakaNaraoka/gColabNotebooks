{
  "cells": [
    {
      "cell_type": "markdown",
      "metadata": {
        "colab_type": "text",
        "id": "view-in-github"
      },
      "source": [
        "<a href=\"https://colab.research.google.com/github/YoshitakaNaraoka/gColabNotebooks/blob/main/%E3%82%B1%E3%83%A2%E3%82%A4%E3%83%B3%E3%83%95%E3%82%A9%E7%A0%82%E5%A0%B4%E5%85%BC%E5%82%99%E5%BF%98%E9%8C%B2.ipynb\" target=\"_parent\"><img src=\"https://colab.research.google.com/assets/colab-badge.svg\" alt=\"Open In Colab\"/></a>"
      ]
    },
    {
      "cell_type": "code",
      "execution_count": 8,
      "metadata": {
        "colab": {
          "base_uri": "https://localhost:8080/"
        },
        "id": "8gNak1kviqYY",
        "outputId": "eb33ee0e-026d-42ef-acf9-fd0dbc7c7c40"
      },
      "outputs": [
        {
          "name": "stdout",
          "output_type": "stream",
          "text": [
            "Requirement already satisfied: rdkit in c:\\users\\user\\appdata\\local\\programs\\python\\python312\\lib\\site-packages (from -r requirements.txt (line 1)) (2023.9.2)Note: you may need to restart the kernel to use updated packages.\n",
            "\n",
            "Requirement already satisfied: py3Dmol in c:\\users\\user\\appdata\\local\\programs\\python\\python312\\lib\\site-packages (from -r requirements.txt (line 2)) (2.0.4)\n",
            "Requirement already satisfied: mordred in c:\\users\\user\\appdata\\local\\programs\\python\\python312\\lib\\site-packages (from -r requirements.txt (line 3)) (1.2.0)\n",
            "Requirement already satisfied: dcekit in c:\\users\\user\\appdata\\local\\programs\\python\\python312\\lib\\site-packages (from -r requirements.txt (line 4)) (2.13.4)\n"
          ]
        },
        {
          "name": "stderr",
          "output_type": "stream",
          "text": [
            "ERROR: Could not find a version that satisfies the requirement rdCoordGen (from versions: none)\n",
            "ERROR: No matching distribution found for rdCoordGen\n"
          ]
        }
      ],
      "source": [
        "# install module\n",
        "%pip install -r requirements.txt"
      ]
    },
    {
      "cell_type": "code",
      "execution_count": 57,
      "metadata": {
        "id": "m3d46p_mN2NT"
      },
      "outputs": [
        {
          "data": {
            "text/plain": [
              "[<rdkit.Chem.rdchem.Mol at 0x1fafe825460>,\n",
              " <rdkit.Chem.rdchem.Mol at 0x1fafe8255b0>,\n",
              " <rdkit.Chem.rdchem.Mol at 0x1fafe8254d0>,\n",
              " <rdkit.Chem.rdchem.Mol at 0x1fafe825540>,\n",
              " <rdkit.Chem.rdchem.Mol at 0x1fafe825620>]"
            ]
          },
          "metadata": {},
          "output_type": "display_data"
        },
        {
          "ename": "ArgumentError",
          "evalue": "Python argument types in\n    SDWriter.write(SDWriter, list)\ndid not match C++ signature:\n    write(class RDKit::SDWriter {lvalue} self, class RDKit::ROMol {lvalue} mol, int confId=-1)",
          "output_type": "error",
          "traceback": [
            "\u001b[1;31m---------------------------------------------------------------------------\u001b[0m",
            "\u001b[1;31mArgumentError\u001b[0m                             Traceback (most recent call last)",
            "Cell \u001b[1;32mIn[57], line 14\u001b[0m\n\u001b[0;32m     12\u001b[0m \u001b[38;5;66;03m### 分子の用意\u001b[39;00m\n\u001b[0;32m     13\u001b[0m writer\u001b[38;5;241m=\u001b[39mChem\u001b[38;5;241m.\u001b[39mSDWriter(\u001b[38;5;124m'\u001b[39m\u001b[38;5;124mmolecules.sdf\u001b[39m\u001b[38;5;124m'\u001b[39m)\n\u001b[1;32m---> 14\u001b[0m \u001b[43mwriter\u001b[49m\u001b[38;5;241;43m.\u001b[39;49m\u001b[43mwrite\u001b[49m\u001b[43m(\u001b[49m\u001b[43mmol_list\u001b[49m\u001b[43m)\u001b[49m\n\u001b[0;32m     15\u001b[0m writer\u001b[38;5;241m.\u001b[39mclose\n\u001b[0;32m     17\u001b[0m suppl \u001b[38;5;241m=\u001b[39m Chem\u001b[38;5;241m.\u001b[39mSDMolSupplier(\u001b[38;5;124m'\u001b[39m\u001b[38;5;124mmolecules.sdf\u001b[39m\u001b[38;5;124m'\u001b[39m)\n",
            "\u001b[1;31mArgumentError\u001b[0m: Python argument types in\n    SDWriter.write(SDWriter, list)\ndid not match C++ signature:\n    write(class RDKit::SDWriter {lvalue} self, class RDKit::ROMol {lvalue} mol, int confId=-1)"
          ]
        }
      ],
      "source": [
        "# rdkit内のChemモジュールを読み込む(ここをいったん動かさないと以下のChem.~が動いてくれない)\n",
        "from rdkit import Chem\n",
        "\n",
        "from Mol_List import mol_list\n",
        "display(mol_list)\n",
        "\n",
        "# CoordGen ライブラリでは大員環化合物を見やすく描画できる\n",
        "Chem.rdCoordGen.AddCoords(mol_list[3])\n",
        "\n",
        "# TPSA(極性表面積)-細胞膜透過性の指標\n",
        "from rdkit.Chem import Descriptors\n",
        "### 分子の用意\n",
        "writer=Chem.SDWriter('molecules.sdf')\n",
        "writer.write(mol_list)\n",
        "writer.close\n",
        "\n",
        "suppl = Chem.SDMolSupplier('molecules.sdf')\n",
        "mols = [x for x in suppl if x is not None]\n",
        "len(mols) # 2\n",
        "### TPSAの計算\n",
        "declist = Descriptors.descList\n",
        "calc = {}\n",
        "for (i,j) in declist:\n",
        "    calc[i] = j\n",
        "tpsa = [calc['TPSA'](i) for i in mols]\n",
        "### 描画\n",
        "\n",
        "\n",
        "print(tpsa)\n"
      ]
    }
  ],
  "metadata": {
    "accelerator": "GPU",
    "colab": {
      "include_colab_link": true,
      "provenance": []
    },
    "gpuClass": "standard",
    "kernelspec": {
      "display_name": "Python 3",
      "name": "python3"
    },
    "language_info": {
      "codemirror_mode": {
        "name": "ipython",
        "version": 3
      },
      "file_extension": ".py",
      "mimetype": "text/x-python",
      "name": "python",
      "nbconvert_exporter": "python",
      "pygments_lexer": "ipython3",
      "version": "3.12.1"
    }
  },
  "nbformat": 4,
  "nbformat_minor": 0
}
