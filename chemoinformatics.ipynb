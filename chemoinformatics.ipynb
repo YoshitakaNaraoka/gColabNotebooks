{
  "cells": [
    {
      "cell_type": "markdown",
      "metadata": {
        "colab_type": "text",
        "id": "view-in-github"
      },
      "source": [
        "<a href=\"https://colab.research.google.com/github/YoshitakaNaraoka/gColabNotebooks/blob/main/%E3%82%B1%E3%83%A2%E3%82%A4%E3%83%B3%E3%83%95%E3%82%A9%E7%A0%82%E5%A0%B4%E5%85%BC%E5%82%99%E5%BF%98%E9%8C%B2.ipynb\" target=\"_parent\"><img src=\"https://colab.research.google.com/assets/colab-badge.svg\" alt=\"Open In Colab\"/></a>"
      ]
    },
    {
      "cell_type": "code",
      "execution_count": 8,
      "metadata": {
        "colab": {
          "base_uri": "https://localhost:8080/"
        },
        "id": "8gNak1kviqYY",
        "outputId": "eb33ee0e-026d-42ef-acf9-fd0dbc7c7c40"
      },
      "outputs": [
        {
          "name": "stdout",
          "output_type": "stream",
          "text": [
            "Requirement already satisfied: rdkit in c:\\users\\user\\appdata\\local\\programs\\python\\python312\\lib\\site-packages (from -r requirements.txt (line 1)) (2023.9.2)Note: you may need to restart the kernel to use updated packages.\n",
            "\n",
            "Requirement already satisfied: py3Dmol in c:\\users\\user\\appdata\\local\\programs\\python\\python312\\lib\\site-packages (from -r requirements.txt (line 2)) (2.0.4)\n",
            "Requirement already satisfied: mordred in c:\\users\\user\\appdata\\local\\programs\\python\\python312\\lib\\site-packages (from -r requirements.txt (line 3)) (1.2.0)\n",
            "Requirement already satisfied: dcekit in c:\\users\\user\\appdata\\local\\programs\\python\\python312\\lib\\site-packages (from -r requirements.txt (line 4)) (2.13.4)\n"
          ]
        },
        {
          "name": "stderr",
          "output_type": "stream",
          "text": [
            "ERROR: Could not find a version that satisfies the requirement rdCoordGen (from versions: none)\n",
            "ERROR: No matching distribution found for rdCoordGen\n"
          ]
        }
      ],
      "source": [
        "# install module\n",
        "%pip install -r requirements.txt"
      ]
    },
    {
      "cell_type": "code",
      "execution_count": 11,
      "metadata": {
        "id": "m3d46p_mN2NT"
      },
      "outputs": [
        {
          "ename": "ArgumentError",
          "evalue": "Python argument types in\n    rdkit.Chem.rdCoordGen.AddCoords(tuple)\ndid not match C++ signature:\n    AddCoords(class RDKit::ROMol {lvalue} mol, class boost::python::api::object {lvalue} params=None)",
          "output_type": "error",
          "traceback": [
            "\u001b[1;31m---------------------------------------------------------------------------\u001b[0m",
            "\u001b[1;31mArgumentError\u001b[0m                             Traceback (most recent call last)",
            "Cell \u001b[1;32mIn[11], line 11\u001b[0m\n\u001b[0;32m      8\u001b[0m ciguatoxin \u001b[38;5;241m=\u001b[39m Chem\u001b[38;5;241m.\u001b[39mMolFromSmiles(\u001b[38;5;124m'\u001b[39m\u001b[38;5;124mCC1CC2C(CC3C(O2)C(C(C4C(O3)C(C(C5(O4)CC(CO5)O)C)C)O)C)OC6CC7C(C(CC8C(O7)CC=CCC9C(O8)C=CC2C(O9)C=CC3C(O2)CC2C(O3)C(C3C(O2)CC=CC(O3)C=CC(CO)O)O)O)(OC6C1)C\u001b[39m\u001b[38;5;124m'\u001b[39m),\n\u001b[0;32m     10\u001b[0m \u001b[38;5;66;03m# CoordGen ライブラリでは大員環化合物を見やすく描画できる\u001b[39;00m\n\u001b[1;32m---> 11\u001b[0m \u001b[43mChem\u001b[49m\u001b[38;5;241;43m.\u001b[39;49m\u001b[43mrdCoordGen\u001b[49m\u001b[38;5;241;43m.\u001b[39;49m\u001b[43mAddCoords\u001b[49m\u001b[43m(\u001b[49m\u001b[43mcrown\u001b[49m\u001b[43m)\u001b[49m\n\u001b[0;32m     13\u001b[0m \u001b[38;5;66;03m# TPSA(極性表面積)-細胞膜透過性の指標\u001b[39;00m\n\u001b[0;32m     14\u001b[0m \u001b[38;5;28;01mfrom\u001b[39;00m \u001b[38;5;21;01mrdkit\u001b[39;00m\u001b[38;5;21;01m.\u001b[39;00m\u001b[38;5;21;01mChem\u001b[39;00m \u001b[38;5;28;01mimport\u001b[39;00m Descriptors\n",
            "\u001b[1;31mArgumentError\u001b[0m: Python argument types in\n    rdkit.Chem.rdCoordGen.AddCoords(tuple)\ndid not match C++ signature:\n    AddCoords(class RDKit::ROMol {lvalue} mol, class boost::python::api::object {lvalue} params=None)"
          ]
        }
      ],
      "source": [
        "# rdkit内のChemモジュールを読み込む(ここをいったん動かさないと以下のChem.~が動いてくれない)\n",
        "from rdkit import Chem\n",
        "\n",
        "benzene = Chem.MolFromSmiles(\"c1ccccc1\"),\n",
        "alanine = Chem.MolFromSmiles('CC(C(=O)O)N'),\n",
        "phenylalanine = Chem.MolFromSmiles('c1ccccc1CC(C(=O)O)N'),\n",
        "crown = Chem.MolFromSmiles('C1COCCOCCOCCOCCOCCO1'),\n",
        "ciguatoxin = Chem.MolFromSmiles('CC1CC2C(CC3C(O2)C(C(C4C(O3)C(C(C5(O4)CC(CO5)O)C)C)O)C)OC6CC7C(C(CC8C(O7)CC=CCC9C(O8)C=CC2C(O9)C=CC3C(O2)CC2C(O3)C(C3C(O2)CC=CC(O3)C=CC(CO)O)O)O)(OC6C1)C'),\n",
        "\n",
        "# CoordGen ライブラリでは大員環化合物を見やすく描画できる\n",
        "Chem.rdCoordGen.AddCoords(crown)\n",
        "\n",
        "# TPSA(極性表面積)-細胞膜透過性の指標\n",
        "from rdkit.Chem import Descriptors\n",
        "### 分子の用意\n",
        "writer=Chem.SDWriter('molecules.sdf')\n",
        "for mol in ('molecules.sdf'):\n",
        "\twriter.write(mol)\n",
        "writer.close()\n",
        "suppl = Chem.SDMolSupplier('molecules.sdf')\n",
        "mols = [x for x in suppl if x is not None]\n",
        "len(mols) # 2\n",
        "### TPSAの計算\n",
        "declist = Descriptors.descList\n",
        "calc = {}\n",
        "for (i,j) in declist:\n",
        "    calc[i] = j\n",
        "tpsa = [calc['TPSA'](i) for i in mols]\n",
        "### 描画\n",
        "display(benzene,alanine,phenylalanine,crown,ciguatoxin)\n",
        "\n",
        "print(tpsa)\n"
      ]
    }
  ],
  "metadata": {
    "accelerator": "GPU",
    "colab": {
      "include_colab_link": true,
      "provenance": []
    },
    "gpuClass": "standard",
    "kernelspec": {
      "display_name": "Python 3",
      "name": "python3"
    },
    "language_info": {
      "codemirror_mode": {
        "name": "ipython",
        "version": 3
      },
      "file_extension": ".py",
      "mimetype": "text/x-python",
      "name": "python",
      "nbconvert_exporter": "python",
      "pygments_lexer": "ipython3",
      "version": "3.12.1"
    }
  },
  "nbformat": 4,
  "nbformat_minor": 0
}
